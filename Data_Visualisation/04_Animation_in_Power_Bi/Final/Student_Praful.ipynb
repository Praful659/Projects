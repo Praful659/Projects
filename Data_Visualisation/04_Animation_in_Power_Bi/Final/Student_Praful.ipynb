{
 "cells": [
  {
   "cell_type": "markdown",
   "id": "a3f5aeaf",
   "metadata": {},
   "source": [
    "# Importing Requirements"
   ]
  },
  {
   "cell_type": "code",
   "execution_count": 22,
   "id": "4cdd459b",
   "metadata": {},
   "outputs": [],
   "source": [
    "import csv\n",
    "import operator\n",
    "import copy\n",
    "from token import EQUAL\n",
    "from builtins import sorted"
   ]
  },
  {
   "cell_type": "markdown",
   "id": "cc477441",
   "metadata": {},
   "source": [
    "# Opening the CSV file"
   ]
  },
  {
   "cell_type": "code",
   "execution_count": 23,
   "id": "8fbc1233",
   "metadata": {},
   "outputs": [],
   "source": [
    "reader = csv.reader(open(r'/Users/prafulpatil/SPRING 2023/MIS 6380 DATA VIZ/Assignments/Assignment_04/Largest_Cities_CSV.CSV'), delimiter=\",\")"
   ]
  },
  {
   "cell_type": "markdown",
   "id": "1a6e770f",
   "metadata": {},
   "source": [
    "# Initializing the variables"
   ]
  },
  {
   "cell_type": "code",
   "execution_count": 24,
   "id": "98396ccc",
   "metadata": {},
   "outputs": [],
   "source": [
    "u = 'State - Place'\n",
    "x = 'Year'\n",
    "y = 'Population'\n",
    "z = 'Praful - Rank'\n",
    "rows_so_far = 0\n",
    "c = 0"
   ]
  },
  {
   "cell_type": "markdown",
   "id": "ffd8ac3e",
   "metadata": {},
   "source": [
    "# Initializing the 2-D list"
   ]
  },
  {
   "cell_type": "code",
   "execution_count": 25,
   "id": "2e9fb2fa",
   "metadata": {},
   "outputs": [],
   "source": [
    "pool = []\n",
    "pool.append([])"
   ]
  },
  {
   "cell_type": "code",
   "execution_count": 26,
   "id": "677b7a9f",
   "metadata": {},
   "outputs": [],
   "source": [
    "#Loop through the csv file and append the list\n",
    "for row in reader:\n",
    "    if rows_so_far==0:\n",
    "        rows_so_far +=1\n",
    "        header = row\n",
    "        \n",
    "#Populate Header\n",
    "#Header for the csv file should include State-City, Year, Population, Rank\n",
    "        for j in range(0,4):\n",
    "            if j==0:\n",
    "                pool.append([])\n",
    "                pool[0].append(u)\n",
    "            if j==1:\n",
    "                pool[0].append(x)\n",
    "            if j==2:\n",
    "                pool[0].append(y)\n",
    "            if j==3:\n",
    "                pool[0].append(z)\n",
    "    else:\n",
    "\n",
    "#Populate items\n",
    "#Append the population of a city for each year\n",
    "        for i in range(len(row)-2):\n",
    "            a=len(pool)\n",
    "            if not row==[]:\n",
    "                if i==0 or i>=1:\n",
    "                    item = copy.deepcopy(row)\n",
    "                    r = copy.deepcopy(row)\n",
    "                    \n",
    "#Populate the values for a column\n",
    "                    for j in range(0,4):\n",
    "                        if item[i+2] != '':\n",
    "                            if j==0:\n",
    "                        \n",
    "#Concatenate the state and city value\n",
    "                                r[0] = item[j+1]+' - '+item[j]\n",
    "                                pool.append([])\n",
    "                                pool[a-1].append(r[0])\n",
    "            \n",
    "#Populate year value\n",
    "                            if j==1:\n",
    "                                pool[a-1].append(int(header[i+2]))\n",
    "            \n",
    "#Populate population value\n",
    "#In case population is nil, do not append the record\n",
    "                            if j==2:\n",
    "                                if item[i+2] == '':\n",
    "                                    pool[a-1].append(int(0))\n",
    "                                else:\n",
    "                                    pool[a-1].append(int(item[i+2]))\n",
    "                                \n",
    "#Initialize the rank to zero\n",
    "                            if j==3:\n",
    "                                pool[a-1].append(int(0))\n",
    "    rows_so_far+= 1"
   ]
  },
  {
   "cell_type": "code",
   "execution_count": 27,
   "id": "232d13d2",
   "metadata": {},
   "outputs": [],
   "source": [
    "#Check the length of the list\n",
    "a = len(pool)"
   ]
  },
  {
   "cell_type": "code",
   "execution_count": 28,
   "id": "6562178d",
   "metadata": {},
   "outputs": [],
   "source": [
    "#Populate the list with all values except header as\n",
    "#Sorting cannot be done on integer values when one record has character value\n",
    "list = pool[1:a-1]"
   ]
  },
  {
   "cell_type": "code",
   "execution_count": 29,
   "id": "f2d168a0",
   "metadata": {},
   "outputs": [],
   "source": [
    "#Sort the list by Year & Population\n",
    "list.sort(key = lambda b: (b[1],b[2]), reverse=True)"
   ]
  },
  {
   "cell_type": "code",
   "execution_count": 30,
   "id": "efad610e",
   "metadata": {},
   "outputs": [],
   "source": [
    "#Add the header to the list\n",
    "list1=[]\n",
    "list1.append([])\n",
    "list1[0] = pool[0]\n",
    "list1[1:a-1] = list[0:a-2]"
   ]
  },
  {
   "cell_type": "code",
   "execution_count": 33,
   "id": "897caa84",
   "metadata": {},
   "outputs": [],
   "source": [
    "#Convert the list into CSV file\n",
    "mycsv = csv.writer(open(r'/Users/prafulpatil/SPRING 2023/MIS 6380 DATA VIZ/Assignments/Assignment_04/Praful.csv','w', newline=''))\n",
    "\n",
    "for row in list1:\n",
    "#Fetching the row index\n",
    "#No calculation is done at header level\n",
    "    e = list1.index(row)\n",
    "    \n",
    "#Compare the year value of the current record with the year value of the previous record\n",
    "#if same calculate the rank, if different assign the rank as one\n",
    "    if row[1] != c and e!=0:\n",
    "        v=1\n",
    "        c=row[1]\n",
    "        row[3]=v\n",
    "    else:\n",
    "        if row[1]==c and e!=0:\n",
    "            v+=1\n",
    "            row[3]=v\n",
    "            \n",
    "#write row to csv\n",
    "    mycsv.writerow(row)"
   ]
  }
 ],
 "metadata": {
  "kernelspec": {
   "display_name": "Python 3 (ipykernel)",
   "language": "python",
   "name": "python3"
  },
  "language_info": {
   "codemirror_mode": {
    "name": "ipython",
    "version": 3
   },
   "file_extension": ".py",
   "mimetype": "text/x-python",
   "name": "python",
   "nbconvert_exporter": "python",
   "pygments_lexer": "ipython3",
   "version": "3.9.13"
  }
 },
 "nbformat": 4,
 "nbformat_minor": 5
}
