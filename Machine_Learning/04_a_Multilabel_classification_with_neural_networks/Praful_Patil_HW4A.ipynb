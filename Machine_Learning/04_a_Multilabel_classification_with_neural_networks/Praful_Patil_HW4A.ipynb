{
  "nbformat": 4,
  "nbformat_minor": 0,
  "metadata": {
    "colab": {
      "provenance": [],
      "gpuType": "T4"
    },
    "kernelspec": {
      "name": "python3",
      "display_name": "Python 3"
    },
    "language_info": {
      "name": "python"
    },
    "accelerator": "GPU"
  },
  "cells": [
    {
      "cell_type": "markdown",
      "source": [
        "###**Setting up the environment**"
      ],
      "metadata": {
        "id": "P5hAFFUgXLb0"
      }
    },
    {
      "cell_type": "code",
      "execution_count": 1,
      "metadata": {
        "colab": {
          "base_uri": "https://localhost:8080/"
        },
        "id": "boe1X36V49No",
        "outputId": "9fbf4f44-05e1-4c1a-9506-f8c34c25398a"
      },
      "outputs": [
        {
          "output_type": "stream",
          "name": "stdout",
          "text": [
            "Mounted at /content/drive\n",
            "\u001b[2K     \u001b[90m━━━━━━━━━━━━━━━━━━━━━━━━━━━━━━━━━━━━━━━━\u001b[0m \u001b[32m510.5/510.5 kB\u001b[0m \u001b[31m3.3 MB/s\u001b[0m eta \u001b[36m0:00:00\u001b[0m\n",
            "\u001b[2K     \u001b[90m━━━━━━━━━━━━━━━━━━━━━━━━━━━━━━━━━━━━━━━━\u001b[0m \u001b[32m8.5/8.5 MB\u001b[0m \u001b[31m37.5 MB/s\u001b[0m eta \u001b[36m0:00:00\u001b[0m\n",
            "\u001b[2K     \u001b[90m━━━━━━━━━━━━━━━━━━━━━━━━━━━━━━━━━━━━━━━━\u001b[0m \u001b[32m84.1/84.1 kB\u001b[0m \u001b[31m8.7 MB/s\u001b[0m eta \u001b[36m0:00:00\u001b[0m\n",
            "\u001b[2K     \u001b[90m━━━━━━━━━━━━━━━━━━━━━━━━━━━━━━━━━━━━━━━━\u001b[0m \u001b[32m2.2/2.2 MB\u001b[0m \u001b[31m71.8 MB/s\u001b[0m eta \u001b[36m0:00:00\u001b[0m\n",
            "\u001b[2K     \u001b[90m━━━━━━━━━━━━━━━━━━━━━━━━━━━━━━━━━━━━━━━━\u001b[0m \u001b[32m280.0/280.0 kB\u001b[0m \u001b[31m27.7 MB/s\u001b[0m eta \u001b[36m0:00:00\u001b[0m\n",
            "\u001b[2K     \u001b[90m━━━━━━━━━━━━━━━━━━━━━━━━━━━━━━━━━━━━━━━━\u001b[0m \u001b[32m116.3/116.3 kB\u001b[0m \u001b[31m11.5 MB/s\u001b[0m eta \u001b[36m0:00:00\u001b[0m\n",
            "\u001b[2K     \u001b[90m━━━━━━━━━━━━━━━━━━━━━━━━━━━━━━━━━━━━━━━━\u001b[0m \u001b[32m134.8/134.8 kB\u001b[0m \u001b[31m15.2 MB/s\u001b[0m eta \u001b[36m0:00:00\u001b[0m\n",
            "\u001b[2K     \u001b[90m━━━━━━━━━━━━━━━━━━━━━━━━━━━━━━━━━━━━━━━━\u001b[0m \u001b[32m195.4/195.4 kB\u001b[0m \u001b[31m21.6 MB/s\u001b[0m eta \u001b[36m0:00:00\u001b[0m\n",
            "\u001b[2K     \u001b[90m━━━━━━━━━━━━━━━━━━━━━━━━━━━━━━━━━━━━━━━━\u001b[0m \u001b[32m258.5/258.5 kB\u001b[0m \u001b[31m24.5 MB/s\u001b[0m eta \u001b[36m0:00:00\u001b[0m\n",
            "\u001b[2K     \u001b[90m━━━━━━━━━━━━━━━━━━━━━━━━━━━━━━━━━━━━━━━━\u001b[0m \u001b[32m62.7/62.7 kB\u001b[0m \u001b[31m6.1 MB/s\u001b[0m eta \u001b[36m0:00:00\u001b[0m\n",
            "\u001b[?25hCollecting torchmetrics\n",
            "  Downloading torchmetrics-1.3.1-py3-none-any.whl (840 kB)\n",
            "\u001b[2K     \u001b[90m━━━━━━━━━━━━━━━━━━━━━━━━━━━━━━━━━━━━━━━━\u001b[0m \u001b[32m840.4/840.4 kB\u001b[0m \u001b[31m5.3 MB/s\u001b[0m eta \u001b[36m0:00:00\u001b[0m\n",
            "\u001b[?25hRequirement already satisfied: numpy>1.20.0 in /usr/local/lib/python3.10/dist-packages (from torchmetrics) (1.25.2)\n",
            "Requirement already satisfied: packaging>17.1 in /usr/local/lib/python3.10/dist-packages (from torchmetrics) (23.2)\n",
            "Requirement already satisfied: torch>=1.10.0 in /usr/local/lib/python3.10/dist-packages (from torchmetrics) (2.1.0+cu121)\n",
            "Collecting lightning-utilities>=0.8.0 (from torchmetrics)\n",
            "  Downloading lightning_utilities-0.10.1-py3-none-any.whl (24 kB)\n",
            "Requirement already satisfied: setuptools in /usr/local/lib/python3.10/dist-packages (from lightning-utilities>=0.8.0->torchmetrics) (67.7.2)\n",
            "Requirement already satisfied: typing-extensions in /usr/local/lib/python3.10/dist-packages (from lightning-utilities>=0.8.0->torchmetrics) (4.10.0)\n",
            "Requirement already satisfied: filelock in /usr/local/lib/python3.10/dist-packages (from torch>=1.10.0->torchmetrics) (3.13.1)\n",
            "Requirement already satisfied: sympy in /usr/local/lib/python3.10/dist-packages (from torch>=1.10.0->torchmetrics) (1.12)\n",
            "Requirement already satisfied: networkx in /usr/local/lib/python3.10/dist-packages (from torch>=1.10.0->torchmetrics) (3.2.1)\n",
            "Requirement already satisfied: jinja2 in /usr/local/lib/python3.10/dist-packages (from torch>=1.10.0->torchmetrics) (3.1.3)\n",
            "Requirement already satisfied: fsspec in /usr/local/lib/python3.10/dist-packages (from torch>=1.10.0->torchmetrics) (2023.6.0)\n",
            "Requirement already satisfied: triton==2.1.0 in /usr/local/lib/python3.10/dist-packages (from torch>=1.10.0->torchmetrics) (2.1.0)\n",
            "Requirement already satisfied: MarkupSafe>=2.0 in /usr/local/lib/python3.10/dist-packages (from jinja2->torch>=1.10.0->torchmetrics) (2.1.5)\n",
            "Requirement already satisfied: mpmath>=0.19 in /usr/local/lib/python3.10/dist-packages (from sympy->torch>=1.10.0->torchmetrics) (1.3.0)\n",
            "Installing collected packages: lightning-utilities, torchmetrics\n",
            "Successfully installed lightning-utilities-0.10.1 torchmetrics-1.3.1\n"
          ]
        }
      ],
      "source": [
        "from pathlib import Path\n",
        "if 'google.colab' in str(get_ipython()):\n",
        "    from google.colab import drive\n",
        "    drive.mount(\"/content/drive\")\n",
        "    !pip install datasets transformers evaluate wandb accelerate -U -qq\n",
        "    base_folder = Path(\"/content/drive/MyDrive\")\n",
        "else:\n",
        "    base_folder = Path(\"/home/harpreet/Insync/google_drive_shaannoor/data\")\n",
        "\n",
        "from sklearn.model_selection import train_test_split\n",
        "import evaluate\n",
        "import torch\n",
        "from torch.utils.data import Dataset, DataLoader\n",
        "import ast\n",
        "import joblib\n",
        "import torch.nn as nn\n",
        "from collections import Counter\n",
        "import numpy as np\n",
        "from sklearn.preprocessing import MultiLabelBinarizer\n",
        "!pip install torchmetrics\n",
        "from torchmetrics import HammingDistance\n",
        "from torchmetrics.classification import  MultilabelHammingDistance\n",
        "from  torchmetrics.functional.classification import multilabel_f1_score, multilabel_hamming_distance\n",
        "from torch.nn.utils import clip_grad_value_\n",
        "import pandas as pd\n",
        "from functools import partial\n",
        "from types import SimpleNamespace"
      ]
    },
    {
      "cell_type": "markdown",
      "source": [
        "##**Loading Dataset**"
      ],
      "metadata": {
        "id": "T5vy93xqiE9S"
      }
    },
    {
      "cell_type": "code",
      "source": [
        "base_folder = Path('/content/drive/MyDrive/NLP/HW_4')\n",
        "data_folder = base_folder\n",
        "custom_functions = base_folder/'custom-functions'"
      ],
      "metadata": {
        "id": "7aSZpO-AZh7h"
      },
      "execution_count": 3,
      "outputs": []
    },
    {
      "cell_type": "code",
      "source": [
        "file_name = 'df_multilabel_hw_cleaned.joblib'\n",
        "file_path = data_folder / file_name\n",
        "\n",
        "# Load the dataset using joblib\n",
        "df_multilabel = joblib.load(file_path)"
      ],
      "metadata": {
        "id": "1cHPO7vRd_Q2"
      },
      "execution_count": 4,
      "outputs": []
    },
    {
      "cell_type": "code",
      "source": [
        "df_multilabel.head(10)"
      ],
      "metadata": {
        "colab": {
          "base_uri": "https://localhost:8080/",
          "height": 363
        },
        "id": "K9-CQtyOexQu",
        "outputId": "23852403-6d81-48c1-8c62-f63b8541cbec"
      },
      "execution_count": 5,
      "outputs": [
        {
          "output_type": "execute_result",
          "data": {
            "text/plain": [
              "                                        cleaned_text               Tags  \\\n",
              "0  asp query stre dropdown webpage follow control...         c# asp.net   \n",
              "1  run javascript code server java code want run ...    java javascript   \n",
              "2  linq sql throw exception row find change hi li...         c# asp.net   \n",
              "3  run python script php server run nginx web ser...         php python   \n",
              "4  advice write function m try write function res...  javascript jquery   \n",
              "5  jquery auto resize function cause jump browser...  javascript jquery   \n",
              "6  php page redirect operation page php grid subp...     php javascript   \n",
              "7  advice need expert asp.net usercontrol usage n...         c# asp.net   \n",
              "8  revert style apply focus blur user focus text ...  javascript jquery   \n",
              "9  hack work look android source develop app app ...       java android   \n",
              "\n",
              "  Tag_Number  \n",
              "0     [0, 9]  \n",
              "1     [1, 3]  \n",
              "2     [0, 9]  \n",
              "3     [2, 7]  \n",
              "4     [3, 5]  \n",
              "5     [3, 5]  \n",
              "6     [2, 3]  \n",
              "7     [0, 9]  \n",
              "8     [3, 5]  \n",
              "9     [1, 4]  "
            ],
            "text/html": [
              "\n",
              "  <div id=\"df-9f9016f7-f4dd-4fd1-89a6-c38261f9a262\" class=\"colab-df-container\">\n",
              "    <div>\n",
              "<style scoped>\n",
              "    .dataframe tbody tr th:only-of-type {\n",
              "        vertical-align: middle;\n",
              "    }\n",
              "\n",
              "    .dataframe tbody tr th {\n",
              "        vertical-align: top;\n",
              "    }\n",
              "\n",
              "    .dataframe thead th {\n",
              "        text-align: right;\n",
              "    }\n",
              "</style>\n",
              "<table border=\"1\" class=\"dataframe\">\n",
              "  <thead>\n",
              "    <tr style=\"text-align: right;\">\n",
              "      <th></th>\n",
              "      <th>cleaned_text</th>\n",
              "      <th>Tags</th>\n",
              "      <th>Tag_Number</th>\n",
              "    </tr>\n",
              "  </thead>\n",
              "  <tbody>\n",
              "    <tr>\n",
              "      <th>0</th>\n",
              "      <td>asp query stre dropdown webpage follow control...</td>\n",
              "      <td>c# asp.net</td>\n",
              "      <td>[0, 9]</td>\n",
              "    </tr>\n",
              "    <tr>\n",
              "      <th>1</th>\n",
              "      <td>run javascript code server java code want run ...</td>\n",
              "      <td>java javascript</td>\n",
              "      <td>[1, 3]</td>\n",
              "    </tr>\n",
              "    <tr>\n",
              "      <th>2</th>\n",
              "      <td>linq sql throw exception row find change hi li...</td>\n",
              "      <td>c# asp.net</td>\n",
              "      <td>[0, 9]</td>\n",
              "    </tr>\n",
              "    <tr>\n",
              "      <th>3</th>\n",
              "      <td>run python script php server run nginx web ser...</td>\n",
              "      <td>php python</td>\n",
              "      <td>[2, 7]</td>\n",
              "    </tr>\n",
              "    <tr>\n",
              "      <th>4</th>\n",
              "      <td>advice write function m try write function res...</td>\n",
              "      <td>javascript jquery</td>\n",
              "      <td>[3, 5]</td>\n",
              "    </tr>\n",
              "    <tr>\n",
              "      <th>5</th>\n",
              "      <td>jquery auto resize function cause jump browser...</td>\n",
              "      <td>javascript jquery</td>\n",
              "      <td>[3, 5]</td>\n",
              "    </tr>\n",
              "    <tr>\n",
              "      <th>6</th>\n",
              "      <td>php page redirect operation page php grid subp...</td>\n",
              "      <td>php javascript</td>\n",
              "      <td>[2, 3]</td>\n",
              "    </tr>\n",
              "    <tr>\n",
              "      <th>7</th>\n",
              "      <td>advice need expert asp.net usercontrol usage n...</td>\n",
              "      <td>c# asp.net</td>\n",
              "      <td>[0, 9]</td>\n",
              "    </tr>\n",
              "    <tr>\n",
              "      <th>8</th>\n",
              "      <td>revert style apply focus blur user focus text ...</td>\n",
              "      <td>javascript jquery</td>\n",
              "      <td>[3, 5]</td>\n",
              "    </tr>\n",
              "    <tr>\n",
              "      <th>9</th>\n",
              "      <td>hack work look android source develop app app ...</td>\n",
              "      <td>java android</td>\n",
              "      <td>[1, 4]</td>\n",
              "    </tr>\n",
              "  </tbody>\n",
              "</table>\n",
              "</div>\n",
              "    <div class=\"colab-df-buttons\">\n",
              "\n",
              "  <div class=\"colab-df-container\">\n",
              "    <button class=\"colab-df-convert\" onclick=\"convertToInteractive('df-9f9016f7-f4dd-4fd1-89a6-c38261f9a262')\"\n",
              "            title=\"Convert this dataframe to an interactive table.\"\n",
              "            style=\"display:none;\">\n",
              "\n",
              "  <svg xmlns=\"http://www.w3.org/2000/svg\" height=\"24px\" viewBox=\"0 -960 960 960\">\n",
              "    <path d=\"M120-120v-720h720v720H120Zm60-500h600v-160H180v160Zm220 220h160v-160H400v160Zm0 220h160v-160H400v160ZM180-400h160v-160H180v160Zm440 0h160v-160H620v160ZM180-180h160v-160H180v160Zm440 0h160v-160H620v160Z\"/>\n",
              "  </svg>\n",
              "    </button>\n",
              "\n",
              "  <style>\n",
              "    .colab-df-container {\n",
              "      display:flex;\n",
              "      gap: 12px;\n",
              "    }\n",
              "\n",
              "    .colab-df-convert {\n",
              "      background-color: #E8F0FE;\n",
              "      border: none;\n",
              "      border-radius: 50%;\n",
              "      cursor: pointer;\n",
              "      display: none;\n",
              "      fill: #1967D2;\n",
              "      height: 32px;\n",
              "      padding: 0 0 0 0;\n",
              "      width: 32px;\n",
              "    }\n",
              "\n",
              "    .colab-df-convert:hover {\n",
              "      background-color: #E2EBFA;\n",
              "      box-shadow: 0px 1px 2px rgba(60, 64, 67, 0.3), 0px 1px 3px 1px rgba(60, 64, 67, 0.15);\n",
              "      fill: #174EA6;\n",
              "    }\n",
              "\n",
              "    .colab-df-buttons div {\n",
              "      margin-bottom: 4px;\n",
              "    }\n",
              "\n",
              "    [theme=dark] .colab-df-convert {\n",
              "      background-color: #3B4455;\n",
              "      fill: #D2E3FC;\n",
              "    }\n",
              "\n",
              "    [theme=dark] .colab-df-convert:hover {\n",
              "      background-color: #434B5C;\n",
              "      box-shadow: 0px 1px 3px 1px rgba(0, 0, 0, 0.15);\n",
              "      filter: drop-shadow(0px 1px 2px rgba(0, 0, 0, 0.3));\n",
              "      fill: #FFFFFF;\n",
              "    }\n",
              "  </style>\n",
              "\n",
              "    <script>\n",
              "      const buttonEl =\n",
              "        document.querySelector('#df-9f9016f7-f4dd-4fd1-89a6-c38261f9a262 button.colab-df-convert');\n",
              "      buttonEl.style.display =\n",
              "        google.colab.kernel.accessAllowed ? 'block' : 'none';\n",
              "\n",
              "      async function convertToInteractive(key) {\n",
              "        const element = document.querySelector('#df-9f9016f7-f4dd-4fd1-89a6-c38261f9a262');\n",
              "        const dataTable =\n",
              "          await google.colab.kernel.invokeFunction('convertToInteractive',\n",
              "                                                    [key], {});\n",
              "        if (!dataTable) return;\n",
              "\n",
              "        const docLinkHtml = 'Like what you see? Visit the ' +\n",
              "          '<a target=\"_blank\" href=https://colab.research.google.com/notebooks/data_table.ipynb>data table notebook</a>'\n",
              "          + ' to learn more about interactive tables.';\n",
              "        element.innerHTML = '';\n",
              "        dataTable['output_type'] = 'display_data';\n",
              "        await google.colab.output.renderOutput(dataTable, element);\n",
              "        const docLink = document.createElement('div');\n",
              "        docLink.innerHTML = docLinkHtml;\n",
              "        element.appendChild(docLink);\n",
              "      }\n",
              "    </script>\n",
              "  </div>\n",
              "\n",
              "\n",
              "<div id=\"df-f0566004-7bdd-4291-947d-87b14cf3dc61\">\n",
              "  <button class=\"colab-df-quickchart\" onclick=\"quickchart('df-f0566004-7bdd-4291-947d-87b14cf3dc61')\"\n",
              "            title=\"Suggest charts\"\n",
              "            style=\"display:none;\">\n",
              "\n",
              "<svg xmlns=\"http://www.w3.org/2000/svg\" height=\"24px\"viewBox=\"0 0 24 24\"\n",
              "     width=\"24px\">\n",
              "    <g>\n",
              "        <path d=\"M19 3H5c-1.1 0-2 .9-2 2v14c0 1.1.9 2 2 2h14c1.1 0 2-.9 2-2V5c0-1.1-.9-2-2-2zM9 17H7v-7h2v7zm4 0h-2V7h2v10zm4 0h-2v-4h2v4z\"/>\n",
              "    </g>\n",
              "</svg>\n",
              "  </button>\n",
              "\n",
              "<style>\n",
              "  .colab-df-quickchart {\n",
              "      --bg-color: #E8F0FE;\n",
              "      --fill-color: #1967D2;\n",
              "      --hover-bg-color: #E2EBFA;\n",
              "      --hover-fill-color: #174EA6;\n",
              "      --disabled-fill-color: #AAA;\n",
              "      --disabled-bg-color: #DDD;\n",
              "  }\n",
              "\n",
              "  [theme=dark] .colab-df-quickchart {\n",
              "      --bg-color: #3B4455;\n",
              "      --fill-color: #D2E3FC;\n",
              "      --hover-bg-color: #434B5C;\n",
              "      --hover-fill-color: #FFFFFF;\n",
              "      --disabled-bg-color: #3B4455;\n",
              "      --disabled-fill-color: #666;\n",
              "  }\n",
              "\n",
              "  .colab-df-quickchart {\n",
              "    background-color: var(--bg-color);\n",
              "    border: none;\n",
              "    border-radius: 50%;\n",
              "    cursor: pointer;\n",
              "    display: none;\n",
              "    fill: var(--fill-color);\n",
              "    height: 32px;\n",
              "    padding: 0;\n",
              "    width: 32px;\n",
              "  }\n",
              "\n",
              "  .colab-df-quickchart:hover {\n",
              "    background-color: var(--hover-bg-color);\n",
              "    box-shadow: 0 1px 2px rgba(60, 64, 67, 0.3), 0 1px 3px 1px rgba(60, 64, 67, 0.15);\n",
              "    fill: var(--button-hover-fill-color);\n",
              "  }\n",
              "\n",
              "  .colab-df-quickchart-complete:disabled,\n",
              "  .colab-df-quickchart-complete:disabled:hover {\n",
              "    background-color: var(--disabled-bg-color);\n",
              "    fill: var(--disabled-fill-color);\n",
              "    box-shadow: none;\n",
              "  }\n",
              "\n",
              "  .colab-df-spinner {\n",
              "    border: 2px solid var(--fill-color);\n",
              "    border-color: transparent;\n",
              "    border-bottom-color: var(--fill-color);\n",
              "    animation:\n",
              "      spin 1s steps(1) infinite;\n",
              "  }\n",
              "\n",
              "  @keyframes spin {\n",
              "    0% {\n",
              "      border-color: transparent;\n",
              "      border-bottom-color: var(--fill-color);\n",
              "      border-left-color: var(--fill-color);\n",
              "    }\n",
              "    20% {\n",
              "      border-color: transparent;\n",
              "      border-left-color: var(--fill-color);\n",
              "      border-top-color: var(--fill-color);\n",
              "    }\n",
              "    30% {\n",
              "      border-color: transparent;\n",
              "      border-left-color: var(--fill-color);\n",
              "      border-top-color: var(--fill-color);\n",
              "      border-right-color: var(--fill-color);\n",
              "    }\n",
              "    40% {\n",
              "      border-color: transparent;\n",
              "      border-right-color: var(--fill-color);\n",
              "      border-top-color: var(--fill-color);\n",
              "    }\n",
              "    60% {\n",
              "      border-color: transparent;\n",
              "      border-right-color: var(--fill-color);\n",
              "    }\n",
              "    80% {\n",
              "      border-color: transparent;\n",
              "      border-right-color: var(--fill-color);\n",
              "      border-bottom-color: var(--fill-color);\n",
              "    }\n",
              "    90% {\n",
              "      border-color: transparent;\n",
              "      border-bottom-color: var(--fill-color);\n",
              "    }\n",
              "  }\n",
              "</style>\n",
              "\n",
              "  <script>\n",
              "    async function quickchart(key) {\n",
              "      const quickchartButtonEl =\n",
              "        document.querySelector('#' + key + ' button');\n",
              "      quickchartButtonEl.disabled = true;  // To prevent multiple clicks.\n",
              "      quickchartButtonEl.classList.add('colab-df-spinner');\n",
              "      try {\n",
              "        const charts = await google.colab.kernel.invokeFunction(\n",
              "            'suggestCharts', [key], {});\n",
              "      } catch (error) {\n",
              "        console.error('Error during call to suggestCharts:', error);\n",
              "      }\n",
              "      quickchartButtonEl.classList.remove('colab-df-spinner');\n",
              "      quickchartButtonEl.classList.add('colab-df-quickchart-complete');\n",
              "    }\n",
              "    (() => {\n",
              "      let quickchartButtonEl =\n",
              "        document.querySelector('#df-f0566004-7bdd-4291-947d-87b14cf3dc61 button');\n",
              "      quickchartButtonEl.style.display =\n",
              "        google.colab.kernel.accessAllowed ? 'block' : 'none';\n",
              "    })();\n",
              "  </script>\n",
              "</div>\n",
              "\n",
              "    </div>\n",
              "  </div>\n"
            ],
            "application/vnd.google.colaboratory.intrinsic+json": {
              "type": "dataframe",
              "variable_name": "df_multilabel",
              "summary": "{\n  \"name\": \"df_multilabel\",\n  \"rows\": 47427,\n  \"fields\": [\n    {\n      \"column\": \"cleaned_text\",\n      \"properties\": {\n        \"dtype\": \"string\",\n        \"num_unique_values\": 36481,\n        \"samples\": [\n          \"fadein invisible list item jquery unordered list lis invisible display begin want specific li visible js function try $ list li nth child(1)\\\").fadein work ul visible begin code > li      display   < ul class=\\\"hide id=\\\"my list >      < li>1</li >      < li>2</li >      < li>3</li > < /ul >   try answer question feel free stab\",\n          \"deploy project server create website excel file mail d information mail d fetch excel file excel file send mail automatically mail d design subject cc bcc content create project export excel file fetch mail d ms access database send email automatically design deploy project ftp.i know create help regard padmapriya s  \",\n          \"custom keypad button functional app finish scoreboard app   user longclick score currently dialog box appear show edittext field ok cancel button   user click edittext field keypad appear number user type new score click edittext field show new value dialog box user click ok save enter value textview show current score problem feel cumbersome   like happen   user longclick score keypad appear user enter new score user click ok keypad disappear value save textview update current score   order accomplish think thing   create new class extend view new android understand option replace edittext dialog new xml file design like keypad   option 2   figure probably easy design xml layout call   user longclick file inflate dialog ok cancel   far good   know code button action thought figure setup onclick listener button layout   figure button go perform exact function   basically text button case 0 9 append textview keypad   user click ok save textview current score textview help point right direction accomplish screenshot textview number   xml code < xml version=\\\"1.0 encoding=\\\"utf-8 > < gridlayout xmlns apk res android android layout_width=\\\"wrap_content android layout_height=\\\"wrap_content android layout_gravity=\\\"fill android columncount=\\\"3 >   < textview      android id=\\\"@+id textview1      android layout_columnspan=\\\"3      android layout_gravity=\\\"fill      android gravity=\\\"right|center_vertical      android textsize=\\\"24sp >   < button android text=\\\"1 >   < button android text=\\\"2 >   < button android text=\\\"3 > < button android text=\\\"4 > < button android text=\\\"5 > < button android text=\\\"6 > < button android text=\\\"7 > < button android text=\\\"8 > < button android text=\\\"9 >   < button      android layout_columnspan=\\\"3      android layout_gravity=\\\"fill      android gravity=\\\"center      android text=\\\"0 >   \"\n        ],\n        \"semantic_type\": \"\",\n        \"description\": \"\"\n      }\n    },\n    {\n      \"column\": \"Tags\",\n      \"properties\": {\n        \"dtype\": \"category\",\n        \"num_unique_values\": 176,\n        \"samples\": [\n          \"javascript asp.net\",\n          \"c# asp.net jquery\",\n          \"c# java python\"\n        ],\n        \"semantic_type\": \"\",\n        \"description\": \"\"\n      }\n    },\n    {\n      \"column\": \"Tag_Number\",\n      \"properties\": {\n        \"dtype\": \"category\",\n        \"num_unique_values\": 176,\n        \"samples\": [\n          \"[3, 9]\",\n          \"[0, 9, 5]\",\n          \"[0, 1, 7]\"\n        ],\n        \"semantic_type\": \"\",\n        \"description\": \"\"\n      }\n    }\n  ]\n}"
            }
          },
          "metadata": {},
          "execution_count": 5
        }
      ]
    },
    {
      "cell_type": "code",
      "source": [
        "# Convert the 'Tag_Number' column from string representations of lists to actual lists of integers\n",
        "df_multilabel['Tag_Number'] = df_multilabel['Tag_Number'].apply(lambda x: ast.literal_eval(x))"
      ],
      "metadata": {
        "id": "baPoFbObhuNd"
      },
      "execution_count": 6,
      "outputs": []
    },
    {
      "cell_type": "code",
      "source": [
        "# Initialize MultiLabelBinarizer\n",
        "mlb = MultiLabelBinarizer()\n",
        "\n",
        "# Fit and transform the 'Tag_Number' column to one-hot encoded format\n",
        "one_hot_labels = mlb.fit_transform(df_multilabel['Tag_Number'])\n",
        "\n",
        "# Convert one-hot encoded labels to a DataFrame\n",
        "one_hot_labels_df = pd.DataFrame(one_hot_labels, columns=mlb.classes_)\n",
        "\n",
        "# Concatenate the one-hot encoded labels DataFrame with the original DataFrame\n",
        "df_multilabel = pd.concat([df_multilabel, one_hot_labels_df], axis=1)"
      ],
      "metadata": {
        "id": "L3MRB7QveG-b"
      },
      "execution_count": 7,
      "outputs": []
    },
    {
      "cell_type": "code",
      "source": [
        "df_multilabel.head(10)"
      ],
      "metadata": {
        "colab": {
          "base_uri": "https://localhost:8080/",
          "height": 363
        },
        "id": "AHpiJDZTfVmW",
        "outputId": "97df3421-dc13-4c86-a9e1-83cae6b95fe4"
      },
      "execution_count": 8,
      "outputs": [
        {
          "output_type": "execute_result",
          "data": {
            "text/plain": [
              "                                        cleaned_text               Tags  \\\n",
              "0  asp query stre dropdown webpage follow control...         c# asp.net   \n",
              "1  run javascript code server java code want run ...    java javascript   \n",
              "2  linq sql throw exception row find change hi li...         c# asp.net   \n",
              "3  run python script php server run nginx web ser...         php python   \n",
              "4  advice write function m try write function res...  javascript jquery   \n",
              "5  jquery auto resize function cause jump browser...  javascript jquery   \n",
              "6  php page redirect operation page php grid subp...     php javascript   \n",
              "7  advice need expert asp.net usercontrol usage n...         c# asp.net   \n",
              "8  revert style apply focus blur user focus text ...  javascript jquery   \n",
              "9  hack work look android source develop app app ...       java android   \n",
              "\n",
              "  Tag_Number  0  1  2  3  4  5  6  7  8  9  \n",
              "0     [0, 9]  1  0  0  0  0  0  0  0  0  1  \n",
              "1     [1, 3]  0  1  0  1  0  0  0  0  0  0  \n",
              "2     [0, 9]  1  0  0  0  0  0  0  0  0  1  \n",
              "3     [2, 7]  0  0  1  0  0  0  0  1  0  0  \n",
              "4     [3, 5]  0  0  0  1  0  1  0  0  0  0  \n",
              "5     [3, 5]  0  0  0  1  0  1  0  0  0  0  \n",
              "6     [2, 3]  0  0  1  1  0  0  0  0  0  0  \n",
              "7     [0, 9]  1  0  0  0  0  0  0  0  0  1  \n",
              "8     [3, 5]  0  0  0  1  0  1  0  0  0  0  \n",
              "9     [1, 4]  0  1  0  0  1  0  0  0  0  0  "
            ],
            "text/html": [
              "\n",
              "  <div id=\"df-3d01b3cc-565d-4c4d-b034-ab4f9f490796\" class=\"colab-df-container\">\n",
              "    <div>\n",
              "<style scoped>\n",
              "    .dataframe tbody tr th:only-of-type {\n",
              "        vertical-align: middle;\n",
              "    }\n",
              "\n",
              "    .dataframe tbody tr th {\n",
              "        vertical-align: top;\n",
              "    }\n",
              "\n",
              "    .dataframe thead th {\n",
              "        text-align: right;\n",
              "    }\n",
              "</style>\n",
              "<table border=\"1\" class=\"dataframe\">\n",
              "  <thead>\n",
              "    <tr style=\"text-align: right;\">\n",
              "      <th></th>\n",
              "      <th>cleaned_text</th>\n",
              "      <th>Tags</th>\n",
              "      <th>Tag_Number</th>\n",
              "      <th>0</th>\n",
              "      <th>1</th>\n",
              "      <th>2</th>\n",
              "      <th>3</th>\n",
              "      <th>4</th>\n",
              "      <th>5</th>\n",
              "      <th>6</th>\n",
              "      <th>7</th>\n",
              "      <th>8</th>\n",
              "      <th>9</th>\n",
              "    </tr>\n",
              "  </thead>\n",
              "  <tbody>\n",
              "    <tr>\n",
              "      <th>0</th>\n",
              "      <td>asp query stre dropdown webpage follow control...</td>\n",
              "      <td>c# asp.net</td>\n",
              "      <td>[0, 9]</td>\n",
              "      <td>1</td>\n",
              "      <td>0</td>\n",
              "      <td>0</td>\n",
              "      <td>0</td>\n",
              "      <td>0</td>\n",
              "      <td>0</td>\n",
              "      <td>0</td>\n",
              "      <td>0</td>\n",
              "      <td>0</td>\n",
              "      <td>1</td>\n",
              "    </tr>\n",
              "    <tr>\n",
              "      <th>1</th>\n",
              "      <td>run javascript code server java code want run ...</td>\n",
              "      <td>java javascript</td>\n",
              "      <td>[1, 3]</td>\n",
              "      <td>0</td>\n",
              "      <td>1</td>\n",
              "      <td>0</td>\n",
              "      <td>1</td>\n",
              "      <td>0</td>\n",
              "      <td>0</td>\n",
              "      <td>0</td>\n",
              "      <td>0</td>\n",
              "      <td>0</td>\n",
              "      <td>0</td>\n",
              "    </tr>\n",
              "    <tr>\n",
              "      <th>2</th>\n",
              "      <td>linq sql throw exception row find change hi li...</td>\n",
              "      <td>c# asp.net</td>\n",
              "      <td>[0, 9]</td>\n",
              "      <td>1</td>\n",
              "      <td>0</td>\n",
              "      <td>0</td>\n",
              "      <td>0</td>\n",
              "      <td>0</td>\n",
              "      <td>0</td>\n",
              "      <td>0</td>\n",
              "      <td>0</td>\n",
              "      <td>0</td>\n",
              "      <td>1</td>\n",
              "    </tr>\n",
              "    <tr>\n",
              "      <th>3</th>\n",
              "      <td>run python script php server run nginx web ser...</td>\n",
              "      <td>php python</td>\n",
              "      <td>[2, 7]</td>\n",
              "      <td>0</td>\n",
              "      <td>0</td>\n",
              "      <td>1</td>\n",
              "      <td>0</td>\n",
              "      <td>0</td>\n",
              "      <td>0</td>\n",
              "      <td>0</td>\n",
              "      <td>1</td>\n",
              "      <td>0</td>\n",
              "      <td>0</td>\n",
              "    </tr>\n",
              "    <tr>\n",
              "      <th>4</th>\n",
              "      <td>advice write function m try write function res...</td>\n",
              "      <td>javascript jquery</td>\n",
              "      <td>[3, 5]</td>\n",
              "      <td>0</td>\n",
              "      <td>0</td>\n",
              "      <td>0</td>\n",
              "      <td>1</td>\n",
              "      <td>0</td>\n",
              "      <td>1</td>\n",
              "      <td>0</td>\n",
              "      <td>0</td>\n",
              "      <td>0</td>\n",
              "      <td>0</td>\n",
              "    </tr>\n",
              "    <tr>\n",
              "      <th>5</th>\n",
              "      <td>jquery auto resize function cause jump browser...</td>\n",
              "      <td>javascript jquery</td>\n",
              "      <td>[3, 5]</td>\n",
              "      <td>0</td>\n",
              "      <td>0</td>\n",
              "      <td>0</td>\n",
              "      <td>1</td>\n",
              "      <td>0</td>\n",
              "      <td>1</td>\n",
              "      <td>0</td>\n",
              "      <td>0</td>\n",
              "      <td>0</td>\n",
              "      <td>0</td>\n",
              "    </tr>\n",
              "    <tr>\n",
              "      <th>6</th>\n",
              "      <td>php page redirect operation page php grid subp...</td>\n",
              "      <td>php javascript</td>\n",
              "      <td>[2, 3]</td>\n",
              "      <td>0</td>\n",
              "      <td>0</td>\n",
              "      <td>1</td>\n",
              "      <td>1</td>\n",
              "      <td>0</td>\n",
              "      <td>0</td>\n",
              "      <td>0</td>\n",
              "      <td>0</td>\n",
              "      <td>0</td>\n",
              "      <td>0</td>\n",
              "    </tr>\n",
              "    <tr>\n",
              "      <th>7</th>\n",
              "      <td>advice need expert asp.net usercontrol usage n...</td>\n",
              "      <td>c# asp.net</td>\n",
              "      <td>[0, 9]</td>\n",
              "      <td>1</td>\n",
              "      <td>0</td>\n",
              "      <td>0</td>\n",
              "      <td>0</td>\n",
              "      <td>0</td>\n",
              "      <td>0</td>\n",
              "      <td>0</td>\n",
              "      <td>0</td>\n",
              "      <td>0</td>\n",
              "      <td>1</td>\n",
              "    </tr>\n",
              "    <tr>\n",
              "      <th>8</th>\n",
              "      <td>revert style apply focus blur user focus text ...</td>\n",
              "      <td>javascript jquery</td>\n",
              "      <td>[3, 5]</td>\n",
              "      <td>0</td>\n",
              "      <td>0</td>\n",
              "      <td>0</td>\n",
              "      <td>1</td>\n",
              "      <td>0</td>\n",
              "      <td>1</td>\n",
              "      <td>0</td>\n",
              "      <td>0</td>\n",
              "      <td>0</td>\n",
              "      <td>0</td>\n",
              "    </tr>\n",
              "    <tr>\n",
              "      <th>9</th>\n",
              "      <td>hack work look android source develop app app ...</td>\n",
              "      <td>java android</td>\n",
              "      <td>[1, 4]</td>\n",
              "      <td>0</td>\n",
              "      <td>1</td>\n",
              "      <td>0</td>\n",
              "      <td>0</td>\n",
              "      <td>1</td>\n",
              "      <td>0</td>\n",
              "      <td>0</td>\n",
              "      <td>0</td>\n",
              "      <td>0</td>\n",
              "      <td>0</td>\n",
              "    </tr>\n",
              "  </tbody>\n",
              "</table>\n",
              "</div>\n",
              "    <div class=\"colab-df-buttons\">\n",
              "\n",
              "  <div class=\"colab-df-container\">\n",
              "    <button class=\"colab-df-convert\" onclick=\"convertToInteractive('df-3d01b3cc-565d-4c4d-b034-ab4f9f490796')\"\n",
              "            title=\"Convert this dataframe to an interactive table.\"\n",
              "            style=\"display:none;\">\n",
              "\n",
              "  <svg xmlns=\"http://www.w3.org/2000/svg\" height=\"24px\" viewBox=\"0 -960 960 960\">\n",
              "    <path d=\"M120-120v-720h720v720H120Zm60-500h600v-160H180v160Zm220 220h160v-160H400v160Zm0 220h160v-160H400v160ZM180-400h160v-160H180v160Zm440 0h160v-160H620v160ZM180-180h160v-160H180v160Zm440 0h160v-160H620v160Z\"/>\n",
              "  </svg>\n",
              "    </button>\n",
              "\n",
              "  <style>\n",
              "    .colab-df-container {\n",
              "      display:flex;\n",
              "      gap: 12px;\n",
              "    }\n",
              "\n",
              "    .colab-df-convert {\n",
              "      background-color: #E8F0FE;\n",
              "      border: none;\n",
              "      border-radius: 50%;\n",
              "      cursor: pointer;\n",
              "      display: none;\n",
              "      fill: #1967D2;\n",
              "      height: 32px;\n",
              "      padding: 0 0 0 0;\n",
              "      width: 32px;\n",
              "    }\n",
              "\n",
              "    .colab-df-convert:hover {\n",
              "      background-color: #E2EBFA;\n",
              "      box-shadow: 0px 1px 2px rgba(60, 64, 67, 0.3), 0px 1px 3px 1px rgba(60, 64, 67, 0.15);\n",
              "      fill: #174EA6;\n",
              "    }\n",
              "\n",
              "    .colab-df-buttons div {\n",
              "      margin-bottom: 4px;\n",
              "    }\n",
              "\n",
              "    [theme=dark] .colab-df-convert {\n",
              "      background-color: #3B4455;\n",
              "      fill: #D2E3FC;\n",
              "    }\n",
              "\n",
              "    [theme=dark] .colab-df-convert:hover {\n",
              "      background-color: #434B5C;\n",
              "      box-shadow: 0px 1px 3px 1px rgba(0, 0, 0, 0.15);\n",
              "      filter: drop-shadow(0px 1px 2px rgba(0, 0, 0, 0.3));\n",
              "      fill: #FFFFFF;\n",
              "    }\n",
              "  </style>\n",
              "\n",
              "    <script>\n",
              "      const buttonEl =\n",
              "        document.querySelector('#df-3d01b3cc-565d-4c4d-b034-ab4f9f490796 button.colab-df-convert');\n",
              "      buttonEl.style.display =\n",
              "        google.colab.kernel.accessAllowed ? 'block' : 'none';\n",
              "\n",
              "      async function convertToInteractive(key) {\n",
              "        const element = document.querySelector('#df-3d01b3cc-565d-4c4d-b034-ab4f9f490796');\n",
              "        const dataTable =\n",
              "          await google.colab.kernel.invokeFunction('convertToInteractive',\n",
              "                                                    [key], {});\n",
              "        if (!dataTable) return;\n",
              "\n",
              "        const docLinkHtml = 'Like what you see? Visit the ' +\n",
              "          '<a target=\"_blank\" href=https://colab.research.google.com/notebooks/data_table.ipynb>data table notebook</a>'\n",
              "          + ' to learn more about interactive tables.';\n",
              "        element.innerHTML = '';\n",
              "        dataTable['output_type'] = 'display_data';\n",
              "        await google.colab.output.renderOutput(dataTable, element);\n",
              "        const docLink = document.createElement('div');\n",
              "        docLink.innerHTML = docLinkHtml;\n",
              "        element.appendChild(docLink);\n",
              "      }\n",
              "    </script>\n",
              "  </div>\n",
              "\n",
              "\n",
              "<div id=\"df-0cb665fb-160e-4fc8-818a-d0e7897dc232\">\n",
              "  <button class=\"colab-df-quickchart\" onclick=\"quickchart('df-0cb665fb-160e-4fc8-818a-d0e7897dc232')\"\n",
              "            title=\"Suggest charts\"\n",
              "            style=\"display:none;\">\n",
              "\n",
              "<svg xmlns=\"http://www.w3.org/2000/svg\" height=\"24px\"viewBox=\"0 0 24 24\"\n",
              "     width=\"24px\">\n",
              "    <g>\n",
              "        <path d=\"M19 3H5c-1.1 0-2 .9-2 2v14c0 1.1.9 2 2 2h14c1.1 0 2-.9 2-2V5c0-1.1-.9-2-2-2zM9 17H7v-7h2v7zm4 0h-2V7h2v10zm4 0h-2v-4h2v4z\"/>\n",
              "    </g>\n",
              "</svg>\n",
              "  </button>\n",
              "\n",
              "<style>\n",
              "  .colab-df-quickchart {\n",
              "      --bg-color: #E8F0FE;\n",
              "      --fill-color: #1967D2;\n",
              "      --hover-bg-color: #E2EBFA;\n",
              "      --hover-fill-color: #174EA6;\n",
              "      --disabled-fill-color: #AAA;\n",
              "      --disabled-bg-color: #DDD;\n",
              "  }\n",
              "\n",
              "  [theme=dark] .colab-df-quickchart {\n",
              "      --bg-color: #3B4455;\n",
              "      --fill-color: #D2E3FC;\n",
              "      --hover-bg-color: #434B5C;\n",
              "      --hover-fill-color: #FFFFFF;\n",
              "      --disabled-bg-color: #3B4455;\n",
              "      --disabled-fill-color: #666;\n",
              "  }\n",
              "\n",
              "  .colab-df-quickchart {\n",
              "    background-color: var(--bg-color);\n",
              "    border: none;\n",
              "    border-radius: 50%;\n",
              "    cursor: pointer;\n",
              "    display: none;\n",
              "    fill: var(--fill-color);\n",
              "    height: 32px;\n",
              "    padding: 0;\n",
              "    width: 32px;\n",
              "  }\n",
              "\n",
              "  .colab-df-quickchart:hover {\n",
              "    background-color: var(--hover-bg-color);\n",
              "    box-shadow: 0 1px 2px rgba(60, 64, 67, 0.3), 0 1px 3px 1px rgba(60, 64, 67, 0.15);\n",
              "    fill: var(--button-hover-fill-color);\n",
              "  }\n",
              "\n",
              "  .colab-df-quickchart-complete:disabled,\n",
              "  .colab-df-quickchart-complete:disabled:hover {\n",
              "    background-color: var(--disabled-bg-color);\n",
              "    fill: var(--disabled-fill-color);\n",
              "    box-shadow: none;\n",
              "  }\n",
              "\n",
              "  .colab-df-spinner {\n",
              "    border: 2px solid var(--fill-color);\n",
              "    border-color: transparent;\n",
              "    border-bottom-color: var(--fill-color);\n",
              "    animation:\n",
              "      spin 1s steps(1) infinite;\n",
              "  }\n",
              "\n",
              "  @keyframes spin {\n",
              "    0% {\n",
              "      border-color: transparent;\n",
              "      border-bottom-color: var(--fill-color);\n",
              "      border-left-color: var(--fill-color);\n",
              "    }\n",
              "    20% {\n",
              "      border-color: transparent;\n",
              "      border-left-color: var(--fill-color);\n",
              "      border-top-color: var(--fill-color);\n",
              "    }\n",
              "    30% {\n",
              "      border-color: transparent;\n",
              "      border-left-color: var(--fill-color);\n",
              "      border-top-color: var(--fill-color);\n",
              "      border-right-color: var(--fill-color);\n",
              "    }\n",
              "    40% {\n",
              "      border-color: transparent;\n",
              "      border-right-color: var(--fill-color);\n",
              "      border-top-color: var(--fill-color);\n",
              "    }\n",
              "    60% {\n",
              "      border-color: transparent;\n",
              "      border-right-color: var(--fill-color);\n",
              "    }\n",
              "    80% {\n",
              "      border-color: transparent;\n",
              "      border-right-color: var(--fill-color);\n",
              "      border-bottom-color: var(--fill-color);\n",
              "    }\n",
              "    90% {\n",
              "      border-color: transparent;\n",
              "      border-bottom-color: var(--fill-color);\n",
              "    }\n",
              "  }\n",
              "</style>\n",
              "\n",
              "  <script>\n",
              "    async function quickchart(key) {\n",
              "      const quickchartButtonEl =\n",
              "        document.querySelector('#' + key + ' button');\n",
              "      quickchartButtonEl.disabled = true;  // To prevent multiple clicks.\n",
              "      quickchartButtonEl.classList.add('colab-df-spinner');\n",
              "      try {\n",
              "        const charts = await google.colab.kernel.invokeFunction(\n",
              "            'suggestCharts', [key], {});\n",
              "      } catch (error) {\n",
              "        console.error('Error during call to suggestCharts:', error);\n",
              "      }\n",
              "      quickchartButtonEl.classList.remove('colab-df-spinner');\n",
              "      quickchartButtonEl.classList.add('colab-df-quickchart-complete');\n",
              "    }\n",
              "    (() => {\n",
              "      let quickchartButtonEl =\n",
              "        document.querySelector('#df-0cb665fb-160e-4fc8-818a-d0e7897dc232 button');\n",
              "      quickchartButtonEl.style.display =\n",
              "        google.colab.kernel.accessAllowed ? 'block' : 'none';\n",
              "    })();\n",
              "  </script>\n",
              "</div>\n",
              "\n",
              "    </div>\n",
              "  </div>\n"
            ],
            "application/vnd.google.colaboratory.intrinsic+json": {
              "type": "dataframe",
              "variable_name": "df_multilabel",
              "summary": "{\n  \"name\": \"df_multilabel\",\n  \"rows\": 47427,\n  \"fields\": [\n    {\n      \"column\": \"cleaned_text\",\n      \"properties\": {\n        \"dtype\": \"string\",\n        \"num_unique_values\": 36481,\n        \"samples\": [\n          \"fadein invisible list item jquery unordered list lis invisible display begin want specific li visible js function try $ list li nth child(1)\\\").fadein work ul visible begin code > li      display   < ul class=\\\"hide id=\\\"my list >      < li>1</li >      < li>2</li >      < li>3</li > < /ul >   try answer question feel free stab\",\n          \"deploy project server create website excel file mail d information mail d fetch excel file excel file send mail automatically mail d design subject cc bcc content create project export excel file fetch mail d ms access database send email automatically design deploy project ftp.i know create help regard padmapriya s  \",\n          \"custom keypad button functional app finish scoreboard app   user longclick score currently dialog box appear show edittext field ok cancel button   user click edittext field keypad appear number user type new score click edittext field show new value dialog box user click ok save enter value textview show current score problem feel cumbersome   like happen   user longclick score keypad appear user enter new score user click ok keypad disappear value save textview update current score   order accomplish think thing   create new class extend view new android understand option replace edittext dialog new xml file design like keypad   option 2   figure probably easy design xml layout call   user longclick file inflate dialog ok cancel   far good   know code button action thought figure setup onclick listener button layout   figure button go perform exact function   basically text button case 0 9 append textview keypad   user click ok save textview current score textview help point right direction accomplish screenshot textview number   xml code < xml version=\\\"1.0 encoding=\\\"utf-8 > < gridlayout xmlns apk res android android layout_width=\\\"wrap_content android layout_height=\\\"wrap_content android layout_gravity=\\\"fill android columncount=\\\"3 >   < textview      android id=\\\"@+id textview1      android layout_columnspan=\\\"3      android layout_gravity=\\\"fill      android gravity=\\\"right|center_vertical      android textsize=\\\"24sp >   < button android text=\\\"1 >   < button android text=\\\"2 >   < button android text=\\\"3 > < button android text=\\\"4 > < button android text=\\\"5 > < button android text=\\\"6 > < button android text=\\\"7 > < button android text=\\\"8 > < button android text=\\\"9 >   < button      android layout_columnspan=\\\"3      android layout_gravity=\\\"fill      android gravity=\\\"center      android text=\\\"0 >   \"\n        ],\n        \"semantic_type\": \"\",\n        \"description\": \"\"\n      }\n    },\n    {\n      \"column\": \"Tags\",\n      \"properties\": {\n        \"dtype\": \"category\",\n        \"num_unique_values\": 176,\n        \"samples\": [\n          \"javascript asp.net\",\n          \"c# asp.net jquery\",\n          \"c# java python\"\n        ],\n        \"semantic_type\": \"\",\n        \"description\": \"\"\n      }\n    },\n    {\n      \"column\": \"Tag_Number\",\n      \"properties\": {\n        \"dtype\": \"object\",\n        \"semantic_type\": \"\",\n        \"description\": \"\"\n      }\n    },\n    {\n      \"column\": 0,\n      \"properties\": {\n        \"dtype\": \"number\",\n        \"std\": 0,\n        \"min\": 0,\n        \"max\": 1,\n        \"num_unique_values\": 2,\n        \"samples\": [\n          0,\n          1\n        ],\n        \"semantic_type\": \"\",\n        \"description\": \"\"\n      }\n    },\n    {\n      \"column\": 1,\n      \"properties\": {\n        \"dtype\": \"number\",\n        \"std\": 0,\n        \"min\": 0,\n        \"max\": 1,\n        \"num_unique_values\": 2,\n        \"samples\": [\n          1,\n          0\n        ],\n        \"semantic_type\": \"\",\n        \"description\": \"\"\n      }\n    },\n    {\n      \"column\": 2,\n      \"properties\": {\n        \"dtype\": \"number\",\n        \"std\": 0,\n        \"min\": 0,\n        \"max\": 1,\n        \"num_unique_values\": 2,\n        \"samples\": [\n          1,\n          0\n        ],\n        \"semantic_type\": \"\",\n        \"description\": \"\"\n      }\n    },\n    {\n      \"column\": 3,\n      \"properties\": {\n        \"dtype\": \"number\",\n        \"std\": 0,\n        \"min\": 0,\n        \"max\": 1,\n        \"num_unique_values\": 2,\n        \"samples\": [\n          1,\n          0\n        ],\n        \"semantic_type\": \"\",\n        \"description\": \"\"\n      }\n    },\n    {\n      \"column\": 4,\n      \"properties\": {\n        \"dtype\": \"number\",\n        \"std\": 0,\n        \"min\": 0,\n        \"max\": 1,\n        \"num_unique_values\": 2,\n        \"samples\": [\n          1,\n          0\n        ],\n        \"semantic_type\": \"\",\n        \"description\": \"\"\n      }\n    },\n    {\n      \"column\": 5,\n      \"properties\": {\n        \"dtype\": \"number\",\n        \"std\": 0,\n        \"min\": 0,\n        \"max\": 1,\n        \"num_unique_values\": 2,\n        \"samples\": [\n          1,\n          0\n        ],\n        \"semantic_type\": \"\",\n        \"description\": \"\"\n      }\n    },\n    {\n      \"column\": 6,\n      \"properties\": {\n        \"dtype\": \"number\",\n        \"std\": 0,\n        \"min\": 0,\n        \"max\": 1,\n        \"num_unique_values\": 2,\n        \"samples\": [\n          1,\n          0\n        ],\n        \"semantic_type\": \"\",\n        \"description\": \"\"\n      }\n    },\n    {\n      \"column\": 7,\n      \"properties\": {\n        \"dtype\": \"number\",\n        \"std\": 0,\n        \"min\": 0,\n        \"max\": 1,\n        \"num_unique_values\": 2,\n        \"samples\": [\n          1,\n          0\n        ],\n        \"semantic_type\": \"\",\n        \"description\": \"\"\n      }\n    },\n    {\n      \"column\": 8,\n      \"properties\": {\n        \"dtype\": \"number\",\n        \"std\": 0,\n        \"min\": 0,\n        \"max\": 1,\n        \"num_unique_values\": 2,\n        \"samples\": [\n          1,\n          0\n        ],\n        \"semantic_type\": \"\",\n        \"description\": \"\"\n      }\n    },\n    {\n      \"column\": 9,\n      \"properties\": {\n        \"dtype\": \"number\",\n        \"std\": 0,\n        \"min\": 0,\n        \"max\": 1,\n        \"num_unique_values\": 2,\n        \"samples\": [\n          0,\n          1\n        ],\n        \"semantic_type\": \"\",\n        \"description\": \"\"\n      }\n    }\n  ]\n}"
            }
          },
          "metadata": {},
          "execution_count": 8
        }
      ]
    },
    {
      "cell_type": "markdown",
      "source": [
        "##**Splitting the dataset**"
      ],
      "metadata": {
        "id": "zySsFKKVksTT"
      }
    },
    {
      "cell_type": "code",
      "source": [
        "X = df_multilabel['cleaned_text'].values\n",
        "y = one_hot_labels"
      ],
      "metadata": {
        "id": "HZx5---5knNr"
      },
      "execution_count": 9,
      "outputs": []
    },
    {
      "cell_type": "code",
      "source": [
        "# Split the data into train, validation, and test sets (60%, 20%, 20%)\n",
        "X_train, X_temp, y_train, y_temp = train_test_split(X, y, test_size=0.4, random_state=42)\n",
        "X_val, X_test, y_val, y_test = train_test_split(X_temp, y_temp, test_size=0.5, random_state=42)"
      ],
      "metadata": {
        "id": "3KqVV3pqkzHJ"
      },
      "execution_count": 10,
      "outputs": []
    },
    {
      "cell_type": "markdown",
      "source": [
        "##**CustomDataset class for loading data and labels.**"
      ],
      "metadata": {
        "id": "BrMdr8SZmU5_"
      }
    },
    {
      "cell_type": "code",
      "source": [
        "class CustomDataset(Dataset):\n",
        "    \"\"\"\n",
        "    Custom Dataset class for loading data and labels.\n",
        "    \"\"\"\n",
        "    def __init__(self, X, y):\n",
        "        self.X = X\n",
        "        self.y = y\n",
        "\n",
        "    def __len__(self):\n",
        "        return len(self.X)\n",
        "\n",
        "    def __getitem__(self, idx):\n",
        "        texts = self.X[idx]\n",
        "        labels = self.y[idx]\n",
        "        sample = (labels, texts)\n",
        "        return sample"
      ],
      "metadata": {
        "id": "DFNyOBLolUHS"
      },
      "execution_count": 11,
      "outputs": []
    },
    {
      "cell_type": "code",
      "source": [
        "train_dataset = CustomDataset(X_train, y_train)\n",
        "val_dataset = CustomDataset(X_val, y_val)\n",
        "test_dataset = CustomDataset(X_test, y_test)"
      ],
      "metadata": {
        "id": "abhF30mmmP-j"
      },
      "execution_count": 12,
      "outputs": []
    },
    {
      "cell_type": "code",
      "source": [
        "from collections import Counter\n",
        "from torchtext.vocab import vocab\n",
        "!pip install torchinfo\n",
        "from torchinfo import summary\n",
        "\n",
        "def get_vocab(dataset, min_freq=1):\n",
        "    \"\"\"\n",
        "    Generate a vocabulary from a dataset.\n",
        "\n",
        "    Args:\n",
        "        dataset (list of tuple): List of tuples where each tuple contains a label and a text.\n",
        "        min_freq (int): The minimum frequency for a token to be included in the vocabulary.\n",
        "\n",
        "    Returns:\n",
        "        torchtext.vocab.Vocab: Vocabulary object.\n",
        "    \"\"\"\n",
        "    # Initialize a counter object to hold token frequencies\n",
        "    counter = Counter()\n",
        "\n",
        "    # Update the counter with tokens from each text in the dataset\n",
        "    for (label, text) in dataset:\n",
        "        counter.update(text.split())\n",
        "\n",
        "    # Create a vocabulary using the counter object\n",
        "    # Tokens that appear fewer times than `min_freq` are excluded\n",
        "    my_vocab = vocab(counter, min_freq=min_freq)\n",
        "\n",
        "    # Insert a '<unk>' token at index 0 to represent unknown words\n",
        "    my_vocab.insert_token('<unk>', 0)\n",
        "\n",
        "    # Set the default index to 0\n",
        "    # This ensures that any unknown word will be mapped to '<unk>'\n",
        "    my_vocab.set_default_index(0)\n",
        "\n",
        "    return my_vocab"
      ],
      "metadata": {
        "colab": {
          "base_uri": "https://localhost:8080/"
        },
        "id": "HUFrlMFTkUT5",
        "outputId": "d540d96b-74ee-481b-db4e-ecab651d7016"
      },
      "execution_count": 13,
      "outputs": [
        {
          "output_type": "stream",
          "name": "stdout",
          "text": [
            "Collecting torchinfo\n",
            "  Downloading torchinfo-1.8.0-py3-none-any.whl (23 kB)\n",
            "Installing collected packages: torchinfo\n",
            "Successfully installed torchinfo-1.8.0\n"
          ]
        }
      ]
    },
    {
      "cell_type": "code",
      "source": [
        "vocab = get_vocab(train_dataset, min_freq=2)"
      ],
      "metadata": {
        "id": "Ha5AqrbYlAne"
      },
      "execution_count": 14,
      "outputs": []
    },
    {
      "cell_type": "markdown",
      "source": [
        "##**Collate_fn for Data Loaders**"
      ],
      "metadata": {
        "id": "HKzFNoVdmTEP"
      }
    },
    {
      "cell_type": "code",
      "source": [
        "# Creating a function that will be used to get the indices of words from vocab\n",
        "def tokenizer(x, vocab):\n",
        "    \"\"\"Converts text to a list of indices using a vocabulary dictionary\"\"\"\n",
        "    return [vocab[token] for token in x.split()]"
      ],
      "metadata": {
        "id": "6XFXNb7cmW19"
      },
      "execution_count": 15,
      "outputs": []
    },
    {
      "cell_type": "code",
      "source": [
        "def collate_batch(batch, my_vocab):\n",
        "    \"\"\"\n",
        "    Collates a batch of samples into tensors of labels, texts, and offsets.\n",
        "\n",
        "    Parameters:\n",
        "        batch (list): A list of tuples, each containing a label and a text.\n",
        "\n",
        "    Returns:\n",
        "        tuple: A tuple containing three tensors:\n",
        "               - Labels tensor\n",
        "               - Concatenated texts tensor\n",
        "               - Offsets tensor indicating the start positions of each text in the concatenated tensor\n",
        "    \"\"\"\n",
        "    # Unpack the batch into separate lists for labels and texts\n",
        "    labels, texts = zip(*batch)\n",
        "\n",
        "    # Convert the list of labels into a tensor of dtype int32\n",
        "    labels = torch.tensor(labels, dtype=torch.long)\n",
        "\n",
        "    # Convert the list of texts into a list of lists; each inner list contains the vocabulary indices for a text\n",
        "    list_of_list_of_indices = [tokenizer(text, my_vocab) for text in texts]\n",
        "\n",
        "    # Concatenate all text indices into a single tensor\n",
        "    indices = torch.cat([torch.tensor(i, dtype=torch.int64) for i in list_of_list_of_indices])\n",
        "\n",
        "    # Compute the offsets for each text in the concatenated tensor\n",
        "    offsets = [0] + [len(i) for i in list_of_list_of_indices]\n",
        "    offsets = torch.tensor(offsets[:-1]).cumsum(dim=0)\n",
        "\n",
        "    return (indices, offsets), labels"
      ],
      "metadata": {
        "id": "uXQ-NyNDmc8M"
      },
      "execution_count": 16,
      "outputs": []
    },
    {
      "cell_type": "code",
      "source": [
        "batch_size = 128\n",
        "collate_partial = partial(collate_batch, my_vocab = vocab)\n",
        "check_loader = torch.utils.data.DataLoader(dataset=train_dataset,\n",
        "                                           batch_size=batch_size,\n",
        "                                           shuffle=True,\n",
        "                                           collate_fn=collate_partial,\n",
        "                                           )"
      ],
      "metadata": {
        "id": "biOoWXuBB0LA"
      },
      "execution_count": 17,
      "outputs": []
    },
    {
      "cell_type": "code",
      "source": [
        "torch.manual_seed(22)\n",
        "for (indices, offset), label in check_loader:\n",
        "    print(indices, offset, label)\n",
        "    break\n"
      ],
      "metadata": {
        "colab": {
          "base_uri": "https://localhost:8080/"
        },
        "id": "SH7RZ1EKB6TH",
        "outputId": "4b437324-2c1e-4c22-ec94-dee2be8260b4"
      },
      "execution_count": 18,
      "outputs": [
        {
          "output_type": "stream",
          "name": "stdout",
          "text": [
            "tensor([   96,   128,  3259,  ...,    79,  4981, 25336]) tensor([    0,    49,   654,   705,   727,   749,   924,  1057,  1086,  1182,\n",
            "         1248,  1280,  1374,  1450,  1510,  1591,  1690,  1717,  1725,  1785,\n",
            "         1847,  1875,  1918,  2131,  2170,  2198,  2239,  2261,  2558,  2588,\n",
            "         2616,  2643,  2697,  2780,  2842,  3002,  3267,  3307,  3493,  3539,\n",
            "         3551,  3580,  3622,  4205,  4217,  4296,  4345,  4361,  4462,  4587,\n",
            "         4656,  4708,  4732,  4825,  4879,  4932,  5184,  5265,  5312,  5336,\n",
            "         5382,  5491,  5539,  5562,  5591,  5775,  5830,  6083,  6192,  6378,\n",
            "         6418,  6481,  6501,  6560,  6628,  6691,  6728,  7006,  7053,  7101,\n",
            "         7139,  7211,  7238,  7381,  7435,  7467,  7500,  7554,  7793,  7819,\n",
            "         7862,  7945,  8007,  8028,  8070,  8082,  8135,  8192,  8254,  8289,\n",
            "         8316,  8508,  8554,  8626,  8677,  8724,  8750,  9122,  9152,  9215,\n",
            "         9263,  9375,  9405,  9504,  9557,  9645,  9706,  9773,  9805, 10245,\n",
            "        10351, 10378, 10423, 10450, 10458, 10669, 10783, 10837]) tensor([[0, 0, 0,  ..., 0, 0, 0],\n",
            "        [0, 1, 0,  ..., 0, 0, 0],\n",
            "        [0, 0, 1,  ..., 0, 0, 0],\n",
            "        ...,\n",
            "        [0, 0, 0,  ..., 0, 0, 1],\n",
            "        [0, 0, 0,  ..., 0, 0, 0],\n",
            "        [1, 0, 0,  ..., 0, 0, 1]])\n"
          ]
        },
        {
          "output_type": "stream",
          "name": "stderr",
          "text": [
            "<ipython-input-16-1bbe20fd9005>:18: UserWarning: Creating a tensor from a list of numpy.ndarrays is extremely slow. Please consider converting the list to a single numpy.ndarray with numpy.array() before converting to a tensor. (Triggered internally at ../torch/csrc/utils/tensor_new.cpp:261.)\n",
            "  labels = torch.tensor(labels, dtype=torch.long)\n"
          ]
        }
      ]
    },
    {
      "cell_type": "code",
      "source": [
        "# Define the batch size\n",
        "batch_size = 128"
      ],
      "metadata": {
        "id": "3feFD6eln0zH"
      },
      "execution_count": 19,
      "outputs": []
    },
    {
      "cell_type": "code",
      "source": [
        "train_loader = DataLoader(dataset=train_dataset, batch_size=batch_size, shuffle=True)\n",
        "val_loader = DataLoader(dataset=val_dataset, batch_size=batch_size, shuffle=False)\n",
        "test_loader = DataLoader(dataset=test_dataset, batch_size=batch_size, shuffle=False)"
      ],
      "metadata": {
        "id": "HD4rfEMgnr8i"
      },
      "execution_count": 20,
      "outputs": []
    },
    {
      "cell_type": "markdown",
      "source": [
        "##**Creating custom model class**"
      ],
      "metadata": {
        "id": "LrAQVw7roRPi"
      }
    },
    {
      "cell_type": "code",
      "source": [
        "class SimpleMLP(nn.Module):\n",
        "    def __init__(self, vocab_size, embedding_dim, hidden_dim1, hidden_dim2, drop_prob1, drop_prob2, num_outputs):\n",
        "        super().__init__()\n",
        "\n",
        "        # EmbeddingBag_layer->Linear->ReLU->BatchNorm->Dropout->Linear->ReLU->BatchNorm->Dropout->Linear\n",
        "\n",
        "        # Embedding layer\n",
        "        self.embedding_bag = nn.EmbeddingBag(vocab_size, embedding_dim)\n",
        "\n",
        "        # First Linear layer\n",
        "        self.linear1 = nn.Linear(embedding_dim, hidden_dim1)\n",
        "        # relu activation function\n",
        "        self.relu1 = nn.ReLU()\n",
        "        # Batch normalization for first linear layer\n",
        "        self.batchnorm1 = nn.BatchNorm1d(num_features=hidden_dim1)\n",
        "        # Dropout for first linear layer\n",
        "        self.dropout1 = nn.Dropout(p=drop_prob1)\n",
        "        # Second Linear layer\n",
        "        self.linear2 = nn.Linear(hidden_dim1, hidden_dim2)\n",
        "        # relu activation function\n",
        "        self.relu2 = nn.ReLU()\n",
        "        # Batch normalization for second linear layer\n",
        "        self.batchnorm2 = nn.BatchNorm1d(num_features=hidden_dim2)\n",
        "        # Dropout for second linear layer\n",
        "        self.dropout2 = nn.Dropout(p=drop_prob2)\n",
        "\n",
        "        # Final Linear layer\n",
        "        self.linear3 = nn.Linear(hidden_dim2, num_outputs)\n",
        "\n",
        "    def forward(self, input_tuple):\n",
        "        indices, offsets = input_tuple\n",
        "\n",
        "        # Pass data through the embedding layer\n",
        "        x = self.embedding_bag(indices, offsets)\n",
        "\n",
        "        # First linear layer followed by ReLU, BatchNorm, and Dropout\n",
        "        x = self.linear1(x)\n",
        "        x = self.relu1(x)\n",
        "        x = self.dropout1(x)\n",
        "        x = self.batchnorm1(x)\n",
        "\n",
        "        # Second linear layer followed by ReLU, BatchNorm, and Dropout\n",
        "        x = self.linear2(x)\n",
        "        x = self.relu2(x)\n",
        "        x = self.dropout2(x)\n",
        "        x = self.batchnorm2(x)\n",
        "\n",
        "        # Final linear layer\n",
        "        x = self.linear3(x)\n",
        "\n",
        "        return x\n"
      ],
      "metadata": {
        "id": "4Qh07pvsn1uA"
      },
      "execution_count": 21,
      "outputs": []
    },
    {
      "cell_type": "markdown",
      "source": [
        "#**Functions to train and evaluate the model**"
      ],
      "metadata": {
        "id": "a9tSNqhhKUPv"
      }
    },
    {
      "cell_type": "markdown",
      "source": [
        "##**Step Function**"
      ],
      "metadata": {
        "id": "N0bCyIvNKGKj"
      }
    },
    {
      "cell_type": "code",
      "source": [
        "def step(inputs, targets, model, device, loss_function=None, optimizer=None, clip_value=10):\n",
        "    \"\"\"\n",
        "    Performs a forward and backward pass for a given batch of inputs and targets.\n",
        "\n",
        "    Parameters:\n",
        "    - inputs (torch.Tensor): The input data for the model.\n",
        "    - targets (torch.Tensor): The true labels for the input data.\n",
        "    - model (torch.nn.Module): The neural network model.\n",
        "    - device (torch.device): The computing device (CPU or GPU).\n",
        "    - loss_function (torch.nn.Module, optional): The loss function to use.\n",
        "    - optimizer (torch.optim.Optimizer, optional): The optimizer to update model parameters.\n",
        "\n",
        "    Returns:\n",
        "    - loss (float): The computed loss value (only if loss_function is not None).\n",
        "    - outputs (torch.Tensor): The predictions from the model.\n",
        "    - correct (int): The number of correctly classified samples in the batch.\n",
        "    \"\"\"\n",
        "    # Move the model and data to the device\n",
        "    model = model.to(device)\n",
        "    inputs = tuple(input_tensor.to(device)\n",
        "                            for input_tensor in inputs)\n",
        "\n",
        "    targets = targets.to(device)\n",
        "    targets = targets.float()\n",
        "\n",
        "    # Step 1: Forward pass to get the model's predictions\n",
        "    outputs = model(inputs)\n",
        "\n",
        "    # Step 2a: Compute the loss using the provided loss function\n",
        "    if loss_function:\n",
        "        loss = loss_function(outputs, targets)\n",
        "\n",
        "    # Step 3 and 4: Perform backward pass and update model parameters if an optimizer is provided\n",
        "    if optimizer:\n",
        "        optimizer.zero_grad()\n",
        "        loss.backward()\n",
        "        clip_grad_value_(model.parameters(), clip_value=clip_value)\n",
        "        optimizer.step()\n",
        "\n",
        "    # Return relevant metrics\n",
        "    if loss_function:\n",
        "        return loss, outputs\n",
        "    else:\n",
        "        return outputs\n"
      ],
      "metadata": {
        "id": "Bq20dH6AqCdm"
      },
      "execution_count": 22,
      "outputs": []
    },
    {
      "cell_type": "markdown",
      "source": [
        "##**Train Epoch**"
      ],
      "metadata": {
        "id": "yqxUwt_2KlfH"
      }
    },
    {
      "cell_type": "code",
      "source": [
        "def train_epoch(train_loader, model, device, loss_function, optimizer, train_hamming, clip_value=None):\n",
        "    \"\"\"\n",
        "    Trains the model for one epoch using the provided data loader and updates the model parameters.\n",
        "\n",
        "    Parameters:\n",
        "    - train_loader (torch.utils.data.DataLoader): DataLoader object for the training set.\n",
        "    - model (torch.nn.Module): The neural network model to be trained.\n",
        "    - device (torch.device): The computing device (CPU or GPU).\n",
        "    - loss_function (torch.nn.Module): The loss function to use for training.\n",
        "    - optimizer (torch.optim.Optimizer): The optimizer to update model parameters.\n",
        "\n",
        "    Returns:\n",
        "    - train_loss (float): Average training loss for the epoch.\n",
        "    - train_acc (float): Training accuracy for the epoch.\n",
        "    \"\"\"\n",
        "    # Set the model to training mode\n",
        "    model.train()\n",
        "\n",
        "    # Initialize variables to track running training loss and correct predictions\n",
        "    running_train_loss = 0.0\n",
        "\n",
        "    # Iterate over all batches in the training data\n",
        "    for inputs, targets in train_loader:\n",
        "        # Perform a forward and backward pass, updating model parameters\n",
        "        loss, outputs = step(inputs, targets, model, device, loss_function, optimizer, clip_value=clip_value)\n",
        "\n",
        "        # Update running loss and correct predictions counter\n",
        "        running_train_loss += loss.item()\n",
        "\n",
        "        with torch.no_grad():\n",
        "            # Correct prediction using thresholding\n",
        "            predictions = (outputs >= 0).float()\n",
        "            # Hamming distance calculation\n",
        "            train_hamming = train_hamming.to(device)\n",
        "            train_hamming.update(predictions, targets.to(device))\n",
        "\n",
        "    # Compute average loss and accuracy for the entire training set\n",
        "    train_loss = running_train_loss / len(train_loader)\n",
        "\n",
        "    return train_loss, train_hamming\n"
      ],
      "metadata": {
        "id": "sJ3NhJoRKkXY"
      },
      "execution_count": 23,
      "outputs": []
    },
    {
      "cell_type": "markdown",
      "source": [
        "##**Val Epoch**"
      ],
      "metadata": {
        "id": "rOHYT4xzMmnB"
      }
    },
    {
      "cell_type": "code",
      "source": [
        "def val_epoch(valid_loader, model, device, loss_function, val_hamming):\n",
        "\n",
        "\n",
        "    # Set the model to evaluation mode\n",
        "    model.eval()\n",
        "\n",
        "    # Initialize variables to track running validation loss and correct predictions\n",
        "    running_val_loss = 0.0\n",
        "\n",
        "    # Disable gradient computation\n",
        "    with torch.no_grad():\n",
        "        # Iterate over all batches in the validation data\n",
        "        for inputs, targets in valid_loader:\n",
        "            # Perform a forward pass to get loss and number of correct predictions\n",
        "            loss, outputs= step(inputs, targets, model, device, loss_function=loss_function, optimizer=None, clip_value=None)\n",
        "\n",
        "            # Update running loss and correct predictions counter\n",
        "            running_val_loss += loss.item()\n",
        "            y_pred = (outputs >= 0).float()\n",
        "\n",
        "            # Update Hamming Distance metric\n",
        "            val_hamming = val_hamming.to(device)\n",
        "            val_hamming.update(y_pred, targets.to(device))\n",
        "\n",
        "\n",
        "    # Compute average loss and accuracy for the entire validation set\n",
        "    val_loss = running_val_loss / len(valid_loader)\n",
        "\n",
        "    return val_loss, val_hamming\n"
      ],
      "metadata": {
        "id": "wsCnNurhMpYZ"
      },
      "execution_count": 24,
      "outputs": []
    },
    {
      "cell_type": "markdown",
      "source": [
        "###**Train() function**"
      ],
      "metadata": {
        "id": "UoZ4IHOaMwvy"
      }
    },
    {
      "cell_type": "code",
      "source": [
        "def train(train_loader, val_loader, model, optimizer, loss_function, epochs, device, train_hamming, val_hamming, clip_value=10):\n",
        "    \"\"\"\n",
        "    Trains and validates the model, and returns history of train and validation metrics.\n",
        "\n",
        "    Parameters:\n",
        "    - train_loader (torch.utils.data.DataLoader): DataLoader for the training set.\n",
        "    - valid_loader (torch.utils.data.DataLoader): DataLoader for the validation set.\n",
        "    - model (torch.nn.Module): Neural network model to train.\n",
        "    - optimizer (torch.optim.Optimizer): Optimizer algorithm.\n",
        "    - loss_function (torch.nn.Module): Loss function to evaluate the model.\n",
        "    - epochs (int): Number of epochs to train the model.\n",
        "    - device (torch.device): The computing device (CPU or GPU).\n",
        "\n",
        "    Returns:\n",
        "    - train_loss_history (list): History of training loss for each epoch.\n",
        "    - train_acc_history (list): History of training accuracy for each epoch.\n",
        "    - valid_loss_history (list): History of validation loss for each epoch.\n",
        "    - valid_acc_history (list): History of validation accuracy for each epoch.\n",
        "    \"\"\"\n",
        "\n",
        "    # Initialize lists to store metrics for each epoch\n",
        "    train_loss_history = []\n",
        "    val_loss_history = []\n",
        "    train_hamming_history = []\n",
        "    val_hamming_history = []\n",
        "    model = model.to(device)\n",
        "\n",
        "    # Loop over the number of specified epochs\n",
        "    for epoch in range(epochs):\n",
        "        # Train model on training data and capture metrics\n",
        "        train_loss, train_hamming = train_epoch(\n",
        "            train_loader, model, device, loss_function, optimizer, train_hamming, clip_value=clip_value)\n",
        "\n",
        "        # Validate model on validation data and capture metrics\n",
        "        val_loss, val_hamming = val_epoch(\n",
        "            val_loader, model, device, loss_function, val_hamming)\n",
        "\n",
        "        epoch_train_hamming, epoch_val_hamming = train_hamming.compute(), val_hamming.compute()\n",
        "\n",
        "        # Store metrics for this epoch\n",
        "        train_loss_history.append(train_loss)\n",
        "        train_hamming_history.append(epoch_train_hamming.item())\n",
        "        val_loss_history.append(val_loss)\n",
        "        val_hamming_history.append(epoch_val_hamming.item())\n",
        "\n",
        "        # Output epoch-level summary\n",
        "        print(f\"Epoch {epoch+1}/{epochs}\")\n",
        "        print(f\"Train Loss: {train_loss:.4f} | Train hamming: {epoch_train_hamming:.4f}\")\n",
        "        print(f\"Val Loss: {val_loss:.4f} | Val hamming: {epoch_val_hamming:.4f}\")\n",
        "        print()\n",
        "\n",
        "        # Reset metric states after each epoch\n",
        "        train_hamming.reset()\n",
        "        val_hamming.reset()\n",
        "\n",
        "    return train_loss_history, train_hamming_history, val_loss_history, val_hamming_history\n"
      ],
      "metadata": {
        "id": "YWayuzwbMu8z"
      },
      "execution_count": 25,
      "outputs": []
    },
    {
      "cell_type": "markdown",
      "source": [
        "#**Hyperparameters and training config**"
      ],
      "metadata": {
        "id": "aL-UmmsQTuLw"
      }
    },
    {
      "cell_type": "code",
      "source": [
        "import torch\n",
        "from torch import nn\n",
        "from torch.optim import AdamW\n",
        "from torchmetrics import HammingDistance\n",
        "\n",
        "# Set the seed for reproducibility\n",
        "SEED = 100\n",
        "torch.manual_seed(SEED)\n",
        "torch.cuda.manual_seed_all(SEED)\n",
        "\n",
        "# Define hyperparameters\n",
        "HIDDEN_DIM1 = 200\n",
        "HIDDEN_DIM2 = 100\n",
        "EMBED_DIM = 300\n",
        "EPOCHS = 5\n",
        "BATCH_SIZE = 128\n",
        "LEARNING_RATE = 0.001\n",
        "WEIGHT_DECAY = 0.000\n",
        "CLIP_VALUE = 10\n",
        "PATIENCE = 5\n",
        "NUM_OUTPUTS = 10\n",
        "VOCAB_SIZE = len(vocab)\n",
        "DROP_PROB1 = 0.5\n",
        "DROP_PROB2 = 0.5\n",
        "\n",
        "# Determine the computing device\n",
        "device = torch.device('cuda:0' if torch.cuda.is_available() else 'cpu')\n",
        "print(f\"Using device: {device}\")\n",
        "\n",
        "# Initialize the model with the specified hyperparameters\n",
        "model = SimpleMLP(\n",
        "    vocab_size=VOCAB_SIZE,\n",
        "    embedding_dim=EMBED_DIM,\n",
        "    hidden_dim1=HIDDEN_DIM1,\n",
        "    hidden_dim2=HIDDEN_DIM2,\n",
        "    drop_prob1=DROP_PROB1,\n",
        "    drop_prob2=DROP_PROB2,\n",
        "    num_outputs=NUM_OUTPUTS\n",
        ")\n",
        "\n",
        "# Transfer the model to the device\n",
        "model.to(device)\n",
        "\n",
        "# Configure the optimizer\n",
        "optimizer = AdamW(model.parameters(), lr=LEARNING_RATE, weight_decay=WEIGHT_DECAY)\n",
        "\n",
        "# Define the loss function\n",
        "loss_function = nn.BCEWithLogitsLoss()\n",
        "\n",
        "# Define collate function with a fixed vocabulary using the 'partial' function\n",
        "collate_fn = partial(collate_batch, my_vocab=vocab)\n",
        "\n",
        "# Data Loaders for training, validation, and test sets\n",
        "# These loaders handle batching, shuffling, and data processing using the custom collate function\n",
        "train_loader = torch.utils.data.DataLoader(train_dataset, batch_size = BATCH_SIZE, shuffle=True,\n",
        "                                           collate_fn=collate_fn, num_workers=4)\n",
        "valid_loader = torch.utils.data.DataLoader(val_dataset, batch_size=BATCH_SIZE, shuffle=False,\n",
        "                                           collate_fn=collate_fn, num_workers=4)\n",
        "test_loader = torch.utils.data.DataLoader(test_dataset, batch_size=BATCH_SIZE, shuffle=False,\n",
        "                                          collate_fn=collate_fn, num_workers=4)\n",
        "\n",
        "train_hamming = HammingDistance(task=\"multilabel\", num_labels=NUM_OUTPUTS)\n",
        "val_hamming = HammingDistance(task=\"multilabel\", num_labels=NUM_OUTPUTS)\n"
      ],
      "metadata": {
        "colab": {
          "base_uri": "https://localhost:8080/"
        },
        "id": "Pl-RSIe9YeLk",
        "outputId": "ac9431ec-b70a-4184-d309-48a986b534fa"
      },
      "execution_count": 26,
      "outputs": [
        {
          "output_type": "stream",
          "name": "stdout",
          "text": [
            "Using device: cpu\n"
          ]
        },
        {
          "output_type": "stream",
          "name": "stderr",
          "text": [
            "/usr/local/lib/python3.10/dist-packages/torch/utils/data/dataloader.py:557: UserWarning: This DataLoader will create 4 worker processes in total. Our suggested max number of worker in current system is 2, which is smaller than what this DataLoader is going to create. Please be aware that excessive worker creation might get DataLoader running slow or even freeze, lower the worker number to avoid potential slowness/freeze if necessary.\n",
            "  warnings.warn(_create_warning_msg(\n"
          ]
        }
      ]
    },
    {
      "cell_type": "code",
      "source": [
        "for input_, targets in train_loader:\n",
        "    # Move inputs and targets to GPU\n",
        "    input_ = tuple(input_tensor.to(device) for input_tensor in input_)\n",
        "    targets = targets.to(device).float()  # Convert targets to float32\n",
        "\n",
        "    model = model.to(device)\n",
        "    model.eval()\n",
        "\n",
        "    # Forward pass\n",
        "    output = model(input_)\n",
        "    loss = loss_function(output, targets)\n",
        "    print(f'Actual loss: {loss}')\n",
        "    break\n",
        "print(f'Expected Theoretical loss: {np.log(2)}')"
      ],
      "metadata": {
        "colab": {
          "base_uri": "https://localhost:8080/"
        },
        "id": "bDVe3OBQmThj",
        "outputId": "1b1e2d7f-47f5-4376-a879-da28857f8672"
      },
      "execution_count": 27,
      "outputs": [
        {
          "output_type": "stream",
          "name": "stdout",
          "text": [
            "Actual loss: 0.6891480684280396\n",
            "Expected Theoretical loss: 0.6931471805599453\n"
          ]
        }
      ]
    },
    {
      "cell_type": "markdown",
      "source": [
        "##**Training**"
      ],
      "metadata": {
        "id": "Y4lhqXJ-sHXZ"
      }
    },
    {
      "cell_type": "code",
      "source": [
        "# Call the training function to start the training process\n",
        "train_losses, train_acc, valid_losses, valid_acc = train(\n",
        "    train_loader, valid_loader, model, optimizer, loss_function, EPOCHS, device,\n",
        "    train_hamming, val_hamming, clip_value= CLIP_VALUE)"
      ],
      "metadata": {
        "colab": {
          "base_uri": "https://localhost:8080/"
        },
        "id": "j5bri7porQDp",
        "outputId": "f6ad6a43-af7e-4923-b23b-c7ea4e3253b8"
      },
      "execution_count": 28,
      "outputs": [
        {
          "output_type": "stream",
          "name": "stdout",
          "text": [
            "Epoch 1/5\n",
            "Train Loss: 0.3918 | Train hamming: 0.1699\n",
            "Val Loss: 0.1730 | Val hamming: 0.0599\n",
            "\n",
            "Epoch 2/5\n",
            "Train Loss: 0.1666 | Train hamming: 0.0584\n",
            "Val Loss: 0.1385 | Val hamming: 0.0499\n",
            "\n",
            "Epoch 3/5\n",
            "Train Loss: 0.1352 | Train hamming: 0.0479\n",
            "Val Loss: 0.1229 | Val hamming: 0.0445\n",
            "\n",
            "Epoch 4/5\n",
            "Train Loss: 0.1168 | Train hamming: 0.0416\n",
            "Val Loss: 0.1185 | Val hamming: 0.0429\n",
            "\n",
            "Epoch 5/5\n",
            "Train Loss: 0.1040 | Train hamming: 0.0373\n",
            "Val Loss: 0.1103 | Val hamming: 0.0390\n",
            "\n"
          ]
        }
      ]
    },
    {
      "cell_type": "code",
      "source": [
        "import torch\n",
        "\n",
        "def get_acc_pred(data_loader, model, device, threshold=0.5):\n",
        "    model.to(device)\n",
        "    model.eval()\n",
        "\n",
        "    all_predictions = []\n",
        "    all_targets = []\n",
        "\n",
        "    with torch.no_grad():\n",
        "        for inputs_tuple, targets in data_loader:\n",
        "            inputs_tuple = tuple(input_tensor.to(device) for input_tensor in inputs_tuple)\n",
        "            targets = targets.to(device)\n",
        "\n",
        "            outputs = model(inputs_tuple)\n",
        "            predicted = (torch.sigmoid(outputs) > threshold).float()\n",
        "\n",
        "            all_predictions.append(predicted.cpu())\n",
        "            all_targets.append(targets.cpu())\n",
        "\n",
        "    all_predictions = torch.cat(all_predictions)\n",
        "    all_targets = torch.cat(all_targets)\n",
        "\n",
        "    return all_predictions, all_targets"
      ],
      "metadata": {
        "id": "wi27YaIeM3fz"
      },
      "execution_count": 29,
      "outputs": []
    },
    {
      "cell_type": "code",
      "source": [
        "predictions_test, target_test = get_acc_pred(test_loader, model, device)\n",
        "predictions_train, target_train = get_acc_pred(train_loader, model, device)\n",
        "predictions_valid, target_valid = get_acc_pred(valid_loader, model, device)"
      ],
      "metadata": {
        "id": "AJntXYNoWbHl"
      },
      "execution_count": 30,
      "outputs": []
    },
    {
      "cell_type": "code",
      "source": [
        "#multi-label classification where labels = 10\n",
        "num_labels = 10\n",
        "\n",
        "# Calculate Hamming Distance for the training dataset\n",
        "train_hd = multilabel_hamming_distance(predictions_train.int(), target_train.int(), num_labels=num_labels)\n",
        "\n",
        "# Calculate Hamming Distance for the validation dataset\n",
        "valid_hd = multilabel_hamming_distance(predictions_valid.int(), target_valid.int(), num_labels=num_labels)\n",
        "\n",
        "# Calculate Hamming Distance for the test dataset\n",
        "test_hd = multilabel_hamming_distance(predictions_test.int(), target_test.int(), num_labels=num_labels)\n"
      ],
      "metadata": {
        "id": "09WE0xCIWzqp"
      },
      "execution_count": 31,
      "outputs": []
    },
    {
      "cell_type": "code",
      "source": [
        "print(f\"Training Hamming Distance: {train_hd}\")\n",
        "print(f\"Validation Hamming Distance: {valid_hd}\")\n",
        "print(f\"Test Hamming Distance: {test_hd}\")"
      ],
      "metadata": {
        "colab": {
          "base_uri": "https://localhost:8080/"
        },
        "id": "odn99PB1e3cw",
        "outputId": "713c0efc-7c69-4ada-bf9d-0bf05aec015b"
      },
      "execution_count": 32,
      "outputs": [
        {
          "output_type": "stream",
          "name": "stdout",
          "text": [
            "Training Hamming Distance: 0.026061290875077248\n",
            "Validation Hamming Distance: 0.039008963853120804\n",
            "Test Hamming Distance: 0.0415559783577919\n"
          ]
        }
      ]
    },
    {
      "cell_type": "markdown",
      "source": [
        "##**Understanding model's performance with F1_score**\n",
        "f1_score is called with average='micro' to compute the micro-averaged F1 score, which aggregates the contributions of all classes to compute the average metric."
      ],
      "metadata": {
        "id": "_KKwZ3mfW6ge"
      }
    },
    {
      "cell_type": "code",
      "source": [
        "from torchmetrics.functional import f1_score\n",
        "\n",
        "# F1 Score for the training dataset\n",
        "train_f1_micro = f1_score(predictions_train, target_train, num_labels=num_labels, average='micro',task='multilabel')\n",
        "\n",
        "# F1 Score for the validation dataset\n",
        "valid_f1_micro = f1_score(predictions_valid, target_valid, num_labels=num_labels, average='micro',task='multilabel')\n",
        "\n",
        "# F1 Score for the test dataset\n",
        "test_f1_micro = f1_score(predictions_test, target_test, num_labels=num_labels, average='micro',task='multilabel')\n",
        "\n",
        "print(f\"Training F1 Score (Micro): {train_f1_micro}\")\n",
        "print(f\"Validation F1 Score (Micro): {valid_f1_micro}\")\n",
        "print(f\"Test F1 Score (Micro): {test_f1_micro}\")"
      ],
      "metadata": {
        "colab": {
          "base_uri": "https://localhost:8080/"
        },
        "id": "BTbChV36T-yB",
        "outputId": "b5b25619-aa22-48c8-ac53-396c005357dc"
      },
      "execution_count": 37,
      "outputs": [
        {
          "output_type": "stream",
          "name": "stdout",
          "text": [
            "Training F1 Score (Micro): 0.9364752769470215\n",
            "Validation F1 Score (Micro): 0.9043828845024109\n",
            "Test F1 Score (Micro): 0.8981553316116333\n"
          ]
        }
      ]
    },
    {
      "cell_type": "markdown",
      "source": [
        "#####**As indicated by the low Hamming Distance and high F1 score on the training set. There is a slight performance drop on the validation and test sets, as expected, since these sets contain unseen data. However, the overall performance remains relatively high, suggesting that the model generalizes well to new data.**"
      ],
      "metadata": {
        "id": "W6EnTw3PgZYN"
      }
    }
  ]
}